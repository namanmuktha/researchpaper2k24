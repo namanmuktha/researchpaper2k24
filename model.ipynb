{
 "cells": [
  {
   "cell_type": "code",
   "execution_count": 2,
   "metadata": {},
   "outputs": [],
   "source": [
    "import pandas as pd \n",
    "import numpy as np\n",
    "import seaborn as sns\n",
    "import matplotlib.pyplot as plt\n"
   ]
  },
  {
   "cell_type": "code",
   "execution_count": 3,
   "metadata": {},
   "outputs": [],
   "source": [
    "df=pd.read_csv('AP_DATA.csv')"
   ]
  },
  {
   "cell_type": "code",
   "execution_count": 4,
   "metadata": {},
   "outputs": [
    {
     "data": {
      "text/html": [
       "<div>\n",
       "<style scoped>\n",
       "    .dataframe tbody tr th:only-of-type {\n",
       "        vertical-align: middle;\n",
       "    }\n",
       "\n",
       "    .dataframe tbody tr th {\n",
       "        vertical-align: top;\n",
       "    }\n",
       "\n",
       "    .dataframe thead th {\n",
       "        text-align: right;\n",
       "    }\n",
       "</style>\n",
       "<table border=\"1\" class=\"dataframe\">\n",
       "  <thead>\n",
       "    <tr style=\"text-align: right;\">\n",
       "      <th></th>\n",
       "      <th>RANK</th>\n",
       "      <th>NEET_ROLL_NO</th>\n",
       "      <th>SCORE</th>\n",
       "      <th>SX</th>\n",
       "      <th>CAT</th>\n",
       "      <th>LOC</th>\n",
       "      <th>PHASE</th>\n",
       "      <th>COLLEGE</th>\n",
       "      <th>EWS</th>\n",
       "    </tr>\n",
       "  </thead>\n",
       "  <tbody>\n",
       "    <tr>\n",
       "      <th>0</th>\n",
       "      <td>1503</td>\n",
       "      <td>1206060037</td>\n",
       "      <td>680</td>\n",
       "      <td>M</td>\n",
       "      <td>BCD</td>\n",
       "      <td>AU</td>\n",
       "      <td>P1</td>\n",
       "      <td>Siddhartha Medical College, Vijayawada</td>\n",
       "      <td>NO</td>\n",
       "    </tr>\n",
       "    <tr>\n",
       "      <th>1</th>\n",
       "      <td>2599</td>\n",
       "      <td>1209010031</td>\n",
       "      <td>671</td>\n",
       "      <td>F</td>\n",
       "      <td>OC</td>\n",
       "      <td>AU</td>\n",
       "      <td>P1</td>\n",
       "      <td>Siddhartha Medical College, Vijayawada</td>\n",
       "      <td>NO</td>\n",
       "    </tr>\n",
       "    <tr>\n",
       "      <th>2</th>\n",
       "      <td>5738</td>\n",
       "      <td>1205060436</td>\n",
       "      <td>655</td>\n",
       "      <td>M</td>\n",
       "      <td>OC</td>\n",
       "      <td>AU</td>\n",
       "      <td>P1</td>\n",
       "      <td>Siddhartha Medical College, Vijayawada</td>\n",
       "      <td>NO</td>\n",
       "    </tr>\n",
       "    <tr>\n",
       "      <th>3</th>\n",
       "      <td>8695</td>\n",
       "      <td>1205090412</td>\n",
       "      <td>644</td>\n",
       "      <td>M</td>\n",
       "      <td>OC</td>\n",
       "      <td>APNL</td>\n",
       "      <td>P1</td>\n",
       "      <td>Siddhartha Medical College, Vijayawada</td>\n",
       "      <td>NO</td>\n",
       "    </tr>\n",
       "    <tr>\n",
       "      <th>4</th>\n",
       "      <td>11748</td>\n",
       "      <td>1205050763</td>\n",
       "      <td>635</td>\n",
       "      <td>F</td>\n",
       "      <td>OC</td>\n",
       "      <td>SVU</td>\n",
       "      <td>P1</td>\n",
       "      <td>Siddhartha Medical College, Vijayawada</td>\n",
       "      <td>NO</td>\n",
       "    </tr>\n",
       "  </tbody>\n",
       "</table>\n",
       "</div>"
      ],
      "text/plain": [
       "    RANK  NEET_ROLL_NO  SCORE SX  CAT   LOC PHASE  \\\n",
       "0   1503    1206060037    680  M  BCD    AU    P1   \n",
       "1   2599    1209010031    671  F   OC    AU    P1   \n",
       "2   5738    1205060436    655  M   OC    AU    P1   \n",
       "3   8695    1205090412    644  M   OC  APNL    P1   \n",
       "4  11748    1205050763    635  F   OC   SVU    P1   \n",
       "\n",
       "                                  COLLEGE EWS  \n",
       "0  Siddhartha Medical College, Vijayawada  NO  \n",
       "1  Siddhartha Medical College, Vijayawada  NO  \n",
       "2  Siddhartha Medical College, Vijayawada  NO  \n",
       "3  Siddhartha Medical College, Vijayawada  NO  \n",
       "4  Siddhartha Medical College, Vijayawada  NO  "
      ]
     },
     "execution_count": 4,
     "metadata": {},
     "output_type": "execute_result"
    }
   ],
   "source": [
    "df.head()"
   ]
  },
  {
   "cell_type": "code",
   "execution_count": 5,
   "metadata": {},
   "outputs": [
    {
     "data": {
      "text/plain": [
       "RANK            0\n",
       "NEET_ROLL_NO    0\n",
       "SCORE           0\n",
       "SX              0\n",
       "CAT             0\n",
       "LOC             0\n",
       "PHASE           0\n",
       "COLLEGE         0\n",
       "EWS             0\n",
       "dtype: int64"
      ]
     },
     "execution_count": 5,
     "metadata": {},
     "output_type": "execute_result"
    }
   ],
   "source": [
    "df.isna().sum()"
   ]
  },
  {
   "cell_type": "code",
   "execution_count": 6,
   "metadata": {},
   "outputs": [
    {
     "data": {
      "text/plain": [
       "RANK            4114\n",
       "NEET_ROLL_NO    4114\n",
       "SCORE            282\n",
       "SX                 2\n",
       "CAT               38\n",
       "LOC               26\n",
       "PHASE              6\n",
       "COLLEGE           37\n",
       "EWS                1\n",
       "dtype: int64"
      ]
     },
     "execution_count": 6,
     "metadata": {},
     "output_type": "execute_result"
    }
   ],
   "source": [
    "df.nunique()"
   ]
  },
  {
   "cell_type": "code",
   "execution_count": 7,
   "metadata": {},
   "outputs": [
    {
     "data": {
      "text/plain": [
       "(7469, 9)"
      ]
     },
     "execution_count": 7,
     "metadata": {},
     "output_type": "execute_result"
    }
   ],
   "source": [
    "df.shape"
   ]
  },
  {
   "cell_type": "code",
   "execution_count": 14,
   "metadata": {},
   "outputs": [],
   "source": [
    "\n",
    "# Assuming df is your DataFrame with the \"category\" feature\n",
    "# Filter out rows with incorrect values in the \"category\" feature\n",
    "correct_values = ['BCD', 'OC', 'BCA', 'BCB', 'BCE', 'SC', 'ST']\n",
    "df = df[df['CAT'].isin(correct_values)]\n",
    "\n",
    "# Now df contains only the rows where the \"category\" feature has the desired values\n"
   ]
  },
  {
   "cell_type": "code",
   "execution_count": 15,
   "metadata": {},
   "outputs": [
    {
     "data": {
      "text/plain": [
       "array(['BCD', 'OC', 'BCA', 'BCB', 'BCE', 'SC', 'ST'], dtype=object)"
      ]
     },
     "execution_count": 15,
     "metadata": {},
     "output_type": "execute_result"
    }
   ],
   "source": [
    "df['CAT'].unique()"
   ]
  },
  {
   "cell_type": "code",
   "execution_count": 16,
   "metadata": {},
   "outputs": [],
   "source": [
    "\n",
    "# Assuming df is your DataFrame with the \"category\" feature\n",
    "# Filter out rows with incorrect values in the \"category\" feature\n",
    "correct_values = ['AU', 'APNL', 'SVU', 'OU', 'NL', 'OUAPNL']\n",
    "df = df[df['LOC'].isin(correct_values)]\n",
    "\n",
    "# Now df contains only the rows where the \"category\" feature has the desired values\n"
   ]
  },
  {
   "cell_type": "code",
   "execution_count": 17,
   "metadata": {},
   "outputs": [
    {
     "data": {
      "text/plain": [
       "array(['AU', 'APNL', 'SVU', 'OU', 'NL', 'OUAPNL'], dtype=object)"
      ]
     },
     "execution_count": 17,
     "metadata": {},
     "output_type": "execute_result"
    }
   ],
   "source": [
    "df['LOC'].unique()"
   ]
  },
  {
   "cell_type": "code",
   "execution_count": 10,
   "metadata": {},
   "outputs": [
    {
     "data": {
      "text/plain": [
       "array(['P1', 'P2', 'MopUp', 'MopUp1', 'NCCRound', 'NCC2'], dtype=object)"
      ]
     },
     "execution_count": 10,
     "metadata": {},
     "output_type": "execute_result"
    }
   ],
   "source": [
    "df['PHASE'].unique()"
   ]
  },
  {
   "cell_type": "code",
   "execution_count": null,
   "metadata": {},
   "outputs": [],
   "source": []
  }
 ],
 "metadata": {
  "kernelspec": {
   "display_name": "base",
   "language": "python",
   "name": "python3"
  },
  "language_info": {
   "codemirror_mode": {
    "name": "ipython",
    "version": 3
   },
   "file_extension": ".py",
   "mimetype": "text/x-python",
   "name": "python",
   "nbconvert_exporter": "python",
   "pygments_lexer": "ipython3",
   "version": "3.12.2"
  }
 },
 "nbformat": 4,
 "nbformat_minor": 2
}
