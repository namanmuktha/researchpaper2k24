{
 "cells": [
  {
   "cell_type": "code",
   "execution_count": 86,
   "metadata": {},
   "outputs": [],
   "source": [
    "import pandas as pd \n",
    "import numpy as np\n",
    "import seaborn as sns\n",
    "import matplotlib.pyplot as plt\n"
   ]
  },
  {
   "cell_type": "code",
   "execution_count": 87,
   "metadata": {},
   "outputs": [],
   "source": [
    "df=pd.read_csv('AP_DATA.csv')"
   ]
  },
  {
   "cell_type": "code",
   "execution_count": 88,
   "metadata": {},
   "outputs": [
    {
     "data": {
      "text/html": [
       "<div>\n",
       "<style scoped>\n",
       "    .dataframe tbody tr th:only-of-type {\n",
       "        vertical-align: middle;\n",
       "    }\n",
       "\n",
       "    .dataframe tbody tr th {\n",
       "        vertical-align: top;\n",
       "    }\n",
       "\n",
       "    .dataframe thead th {\n",
       "        text-align: right;\n",
       "    }\n",
       "</style>\n",
       "<table border=\"1\" class=\"dataframe\">\n",
       "  <thead>\n",
       "    <tr style=\"text-align: right;\">\n",
       "      <th></th>\n",
       "      <th>RANK</th>\n",
       "      <th>NEET_ROLL_NO</th>\n",
       "      <th>SCORE</th>\n",
       "      <th>SX</th>\n",
       "      <th>CAT</th>\n",
       "      <th>LOC</th>\n",
       "      <th>PHASE</th>\n",
       "      <th>COLLEGE</th>\n",
       "      <th>EWS</th>\n",
       "    </tr>\n",
       "  </thead>\n",
       "  <tbody>\n",
       "    <tr>\n",
       "      <th>0</th>\n",
       "      <td>1503</td>\n",
       "      <td>1206060037</td>\n",
       "      <td>680</td>\n",
       "      <td>M</td>\n",
       "      <td>BCD</td>\n",
       "      <td>AU</td>\n",
       "      <td>P1</td>\n",
       "      <td>Siddhartha Medical College, Vijayawada</td>\n",
       "      <td>NO</td>\n",
       "    </tr>\n",
       "    <tr>\n",
       "      <th>1</th>\n",
       "      <td>2599</td>\n",
       "      <td>1209010031</td>\n",
       "      <td>671</td>\n",
       "      <td>F</td>\n",
       "      <td>OC</td>\n",
       "      <td>AU</td>\n",
       "      <td>P1</td>\n",
       "      <td>Siddhartha Medical College, Vijayawada</td>\n",
       "      <td>NO</td>\n",
       "    </tr>\n",
       "    <tr>\n",
       "      <th>2</th>\n",
       "      <td>5738</td>\n",
       "      <td>1205060436</td>\n",
       "      <td>655</td>\n",
       "      <td>M</td>\n",
       "      <td>OC</td>\n",
       "      <td>AU</td>\n",
       "      <td>P1</td>\n",
       "      <td>Siddhartha Medical College, Vijayawada</td>\n",
       "      <td>NO</td>\n",
       "    </tr>\n",
       "    <tr>\n",
       "      <th>3</th>\n",
       "      <td>8695</td>\n",
       "      <td>1205090412</td>\n",
       "      <td>644</td>\n",
       "      <td>M</td>\n",
       "      <td>OC</td>\n",
       "      <td>APNL</td>\n",
       "      <td>P1</td>\n",
       "      <td>Siddhartha Medical College, Vijayawada</td>\n",
       "      <td>NO</td>\n",
       "    </tr>\n",
       "    <tr>\n",
       "      <th>4</th>\n",
       "      <td>11748</td>\n",
       "      <td>1205050763</td>\n",
       "      <td>635</td>\n",
       "      <td>F</td>\n",
       "      <td>OC</td>\n",
       "      <td>SVU</td>\n",
       "      <td>P1</td>\n",
       "      <td>Siddhartha Medical College, Vijayawada</td>\n",
       "      <td>NO</td>\n",
       "    </tr>\n",
       "  </tbody>\n",
       "</table>\n",
       "</div>"
      ],
      "text/plain": [
       "    RANK  NEET_ROLL_NO  SCORE SX  CAT   LOC PHASE  \\\n",
       "0   1503    1206060037    680  M  BCD    AU    P1   \n",
       "1   2599    1209010031    671  F   OC    AU    P1   \n",
       "2   5738    1205060436    655  M   OC    AU    P1   \n",
       "3   8695    1205090412    644  M   OC  APNL    P1   \n",
       "4  11748    1205050763    635  F   OC   SVU    P1   \n",
       "\n",
       "                                  COLLEGE EWS  \n",
       "0  Siddhartha Medical College, Vijayawada  NO  \n",
       "1  Siddhartha Medical College, Vijayawada  NO  \n",
       "2  Siddhartha Medical College, Vijayawada  NO  \n",
       "3  Siddhartha Medical College, Vijayawada  NO  \n",
       "4  Siddhartha Medical College, Vijayawada  NO  "
      ]
     },
     "execution_count": 88,
     "metadata": {},
     "output_type": "execute_result"
    }
   ],
   "source": [
    "df.head()"
   ]
  },
  {
   "cell_type": "code",
   "execution_count": 89,
   "metadata": {},
   "outputs": [
    {
     "data": {
      "text/plain": [
       "RANK            0\n",
       "NEET_ROLL_NO    0\n",
       "SCORE           0\n",
       "SX              0\n",
       "CAT             0\n",
       "LOC             0\n",
       "PHASE           0\n",
       "COLLEGE         0\n",
       "EWS             0\n",
       "dtype: int64"
      ]
     },
     "execution_count": 89,
     "metadata": {},
     "output_type": "execute_result"
    }
   ],
   "source": [
    "df.isna().sum()"
   ]
  },
  {
   "cell_type": "code",
   "execution_count": 90,
   "metadata": {},
   "outputs": [
    {
     "data": {
      "text/plain": [
       "RANK            4114\n",
       "NEET_ROLL_NO    4114\n",
       "SCORE            282\n",
       "SX                 2\n",
       "CAT               38\n",
       "LOC               26\n",
       "PHASE              6\n",
       "COLLEGE           35\n",
       "EWS                1\n",
       "dtype: int64"
      ]
     },
     "execution_count": 90,
     "metadata": {},
     "output_type": "execute_result"
    }
   ],
   "source": [
    "df.nunique()"
   ]
  },
  {
   "cell_type": "code",
   "execution_count": 91,
   "metadata": {},
   "outputs": [
    {
     "data": {
      "text/plain": [
       "(7469, 9)"
      ]
     },
     "execution_count": 91,
     "metadata": {},
     "output_type": "execute_result"
    }
   ],
   "source": [
    "df.shape"
   ]
  },
  {
   "cell_type": "code",
   "execution_count": 92,
   "metadata": {},
   "outputs": [],
   "source": [
    "\n",
    "# Assuming df is your DataFrame with the \"category\" feature\n",
    "# Filter out rows with incorrect values in the \"category\" feature\n",
    "correct_values = ['BCD', 'OC', 'BCA', 'BCB', 'BCE', 'SC', 'ST']\n",
    "df = df[df['CAT'].isin(correct_values)]\n",
    "\n",
    "# Now df contains only the rows where the \"category\" feature has the desired values\n"
   ]
  },
  {
   "cell_type": "code",
   "execution_count": 93,
   "metadata": {},
   "outputs": [
    {
     "data": {
      "text/plain": [
       "array(['BCD', 'OC', 'BCA', 'BCB', 'BCE', 'SC', 'ST'], dtype=object)"
      ]
     },
     "execution_count": 93,
     "metadata": {},
     "output_type": "execute_result"
    }
   ],
   "source": [
    "df['CAT'].unique()"
   ]
  },
  {
   "cell_type": "code",
   "execution_count": 94,
   "metadata": {},
   "outputs": [],
   "source": [
    "\n",
    "# Assuming df is your DataFrame with the \"category\" feature\n",
    "# Filter out rows with incorrect values in the \"category\" feature\n",
    "correct_values = ['AU', 'APNL', 'SVU', 'OU', 'NL', 'OUAPNL']\n",
    "df = df[df['LOC'].isin(correct_values)]\n",
    "\n",
    "# Now df contains only the rows where the \"category\" feature has the desired values\n"
   ]
  },
  {
   "cell_type": "code",
   "execution_count": 95,
   "metadata": {},
   "outputs": [
    {
     "data": {
      "text/plain": [
       "array(['AU', 'APNL', 'SVU', 'OU', 'NL', 'OUAPNL'], dtype=object)"
      ]
     },
     "execution_count": 95,
     "metadata": {},
     "output_type": "execute_result"
    }
   ],
   "source": [
    "df['LOC'].unique()"
   ]
  },
  {
   "cell_type": "code",
   "execution_count": 96,
   "metadata": {},
   "outputs": [
    {
     "data": {
      "text/plain": [
       "array(['P1', 'P2', 'MopUp', 'MopUp1', 'NCCRound', 'NCC2'], dtype=object)"
      ]
     },
     "execution_count": 96,
     "metadata": {},
     "output_type": "execute_result"
    }
   ],
   "source": [
    "df['PHASE'].unique()"
   ]
  },
  {
   "cell_type": "code",
   "execution_count": 97,
   "metadata": {},
   "outputs": [
    {
     "data": {
      "text/plain": [
       "(7316, 9)"
      ]
     },
     "execution_count": 97,
     "metadata": {},
     "output_type": "execute_result"
    }
   ],
   "source": [
    "df.shape"
   ]
  },
  {
   "cell_type": "code",
   "execution_count": 98,
   "metadata": {},
   "outputs": [
    {
     "data": {
      "text/plain": [
       "RANK            4031\n",
       "NEET_ROLL_NO    4031\n",
       "SCORE            281\n",
       "SX                 2\n",
       "CAT                7\n",
       "LOC                6\n",
       "PHASE              6\n",
       "COLLEGE           35\n",
       "EWS                1\n",
       "dtype: int64"
      ]
     },
     "execution_count": 98,
     "metadata": {},
     "output_type": "execute_result"
    }
   ],
   "source": [
    "df.nunique()"
   ]
  },
  {
   "cell_type": "code",
   "execution_count": 99,
   "metadata": {},
   "outputs": [
    {
     "data": {
      "text/plain": [
       "<Axes: xlabel='COLLEGE', ylabel='count'>"
      ]
     },
     "execution_count": 99,
     "metadata": {},
     "output_type": "execute_result"
    },
    {
     "data": {
      "image/png": "[encoded data removed]",
      "text/plain": [
       "<Figure size 640x480 with 1 Axes>"
      ]
     },
     "metadata": {},
     "output_type": "display_data"
    }
   ],
   "source": [
    "sns.countplot(data=df,x=\"COLLEGE\")"
   ]
  },
  {
   "cell_type": "code",
   "execution_count": 100,
   "metadata": {},
   "outputs": [
    {
     "data": {
      "text/plain": [
       "RANK             int64\n",
       "NEET_ROLL_NO     int64\n",
       "SCORE            int64\n",
       "SX              object\n",
       "CAT             object\n",
       "LOC             object\n",
       "PHASE           object\n",
       "COLLEGE         object\n",
       "EWS             object\n",
       "dtype: object"
      ]
     },
     "execution_count": 100,
     "metadata": {},
     "output_type": "execute_result"
    }
   ],
   "source": [
    "df.dtypes"
   ]
  },
  {
   "cell_type": "code",
   "execution_count": 101,
   "metadata": {},
   "outputs": [],
   "source": [
    "\n",
    "from sklearn.preprocessing import LabelEncoder\n",
    "disorder_column = df['SX']\n",
    "label_encoder = LabelEncoder()\n",
    "encoded_values = label_encoder.fit_transform(disorder_column)\n",
    "label_mapping_sx = dict(zip(label_encoder.classes_, label_encoder.transform(label_encoder.classes_)))\n",
    "df['SX'] = encoded_values"
   ]
  },
  {
   "cell_type": "code",
   "execution_count": 102,
   "metadata": {},
   "outputs": [],
   "source": [
    "\n",
    "from sklearn.preprocessing import LabelEncoder\n",
    "disorder_column = df['CAT']\n",
    "label_encoder = LabelEncoder()\n",
    "encoded_values = label_encoder.fit_transform(disorder_column)\n",
    "label_mapping_cat = dict(zip(label_encoder.classes_, label_encoder.transform(label_encoder.classes_)))\n",
    "df['CAT'] = encoded_values"
   ]
  },
  {
   "cell_type": "code",
   "execution_count": 103,
   "metadata": {},
   "outputs": [],
   "source": [
    "\n",
    "from sklearn.preprocessing import LabelEncoder\n",
    "disorder_column = df['LOC']\n",
    "label_encoder = LabelEncoder()\n",
    "encoded_values = label_encoder.fit_transform(disorder_column)\n",
    "label_mapping_loc = dict(zip(label_encoder.classes_, label_encoder.transform(label_encoder.classes_)))\n",
    "df['LOC'] = encoded_values"
   ]
  },
  {
   "cell_type": "code",
   "execution_count": 104,
   "metadata": {},
   "outputs": [
    {
     "data": {
      "text/plain": [
       "array(['P1', 'P2', 'MopUp', 'MopUp1', 'NCCRound', 'NCC2'], dtype=object)"
      ]
     },
     "execution_count": 104,
     "metadata": {},
     "output_type": "execute_result"
    }
   ],
   "source": [
    "df['PHASE'].unique()"
   ]
  },
  {
   "cell_type": "code",
   "execution_count": 105,
   "metadata": {},
   "outputs": [],
   "source": [
    "import pandas as pd\n",
    "\n",
    "# Create a dictionary mapping each category to its corresponding ordinal value\n",
    "ordinal_mapping = {'P1': 1, 'P2': 2, 'MopUp': 3, 'MopUp1': 4, 'NCCRound': 5, 'NCC2': 6}\n",
    "\n",
    "# Assuming 'column_name' is the name of the column you want to encode\n",
    "df['PHASE'] = df['PHASE'].map(ordinal_mapping)\n"
   ]
  },
  {
   "cell_type": "code",
   "execution_count": 106,
   "metadata": {},
   "outputs": [],
   "source": [
    "\n",
    "from sklearn.preprocessing import LabelEncoder\n",
    "disorder_column = df['COLLEGE']\n",
    "label_encoder = LabelEncoder()\n",
    "encoded_values = label_encoder.fit_transform(disorder_column)\n",
    "label_mapping_college = dict(zip(label_encoder.classes_, label_encoder.transform(label_encoder.classes_)))\n",
    "df['COLLEGE'] = encoded_values"
   ]
  },
  {
   "cell_type": "code",
   "execution_count": 107,
   "metadata": {},
   "outputs": [
    {
     "data": {
      "text/plain": [
       "array(['NO'], dtype=object)"
      ]
     },
     "execution_count": 107,
     "metadata": {},
     "output_type": "execute_result"
    }
   ],
   "source": [
    "df['EWS'].unique()"
   ]
  },
  {
   "cell_type": "code",
   "execution_count": 108,
   "metadata": {},
   "outputs": [],
   "source": [
    "df=df.drop(['EWS'],axis=1)"
   ]
  },
  {
   "cell_type": "code",
   "execution_count": 109,
   "metadata": {},
   "outputs": [
    {
     "data": {
      "text/html": [
       "<div>\n",
       "<style scoped>\n",
       "    .dataframe tbody tr th:only-of-type {\n",
       "        vertical-align: middle;\n",
       "    }\n",
       "\n",
       "    .dataframe tbody tr th {\n",
       "        vertical-align: top;\n",
       "    }\n",
       "\n",
       "    .dataframe thead th {\n",
       "        text-align: right;\n",
       "    }\n",
       "</style>\n",
       "<table border=\"1\" class=\"dataframe\">\n",
       "  <thead>\n",
       "    <tr style=\"text-align: right;\">\n",
       "      <th></th>\n",
       "      <th>RANK</th>\n",
       "      <th>NEET_ROLL_NO</th>\n",
       "      <th>SCORE</th>\n",
       "      <th>SX</th>\n",
       "      <th>CAT</th>\n",
       "      <th>LOC</th>\n",
       "      <th>PHASE</th>\n",
       "      <th>COLLEGE</th>\n",
       "    </tr>\n",
       "  </thead>\n",
       "  <tbody>\n",
       "    <tr>\n",
       "      <th>0</th>\n",
       "      <td>1503</td>\n",
       "      <td>1206060037</td>\n",
       "      <td>680</td>\n",
       "      <td>1</td>\n",
       "      <td>2</td>\n",
       "      <td>1</td>\n",
       "      <td>1</td>\n",
       "      <td>30</td>\n",
       "    </tr>\n",
       "    <tr>\n",
       "      <th>1</th>\n",
       "      <td>2599</td>\n",
       "      <td>1209010031</td>\n",
       "      <td>671</td>\n",
       "      <td>0</td>\n",
       "      <td>4</td>\n",
       "      <td>1</td>\n",
       "      <td>1</td>\n",
       "      <td>30</td>\n",
       "    </tr>\n",
       "    <tr>\n",
       "      <th>2</th>\n",
       "      <td>5738</td>\n",
       "      <td>1205060436</td>\n",
       "      <td>655</td>\n",
       "      <td>1</td>\n",
       "      <td>4</td>\n",
       "      <td>1</td>\n",
       "      <td>1</td>\n",
       "      <td>30</td>\n",
       "    </tr>\n",
       "    <tr>\n",
       "      <th>3</th>\n",
       "      <td>8695</td>\n",
       "      <td>1205090412</td>\n",
       "      <td>644</td>\n",
       "      <td>1</td>\n",
       "      <td>4</td>\n",
       "      <td>0</td>\n",
       "      <td>1</td>\n",
       "      <td>30</td>\n",
       "    </tr>\n",
       "    <tr>\n",
       "      <th>4</th>\n",
       "      <td>11748</td>\n",
       "      <td>1205050763</td>\n",
       "      <td>635</td>\n",
       "      <td>0</td>\n",
       "      <td>4</td>\n",
       "      <td>5</td>\n",
       "      <td>1</td>\n",
       "      <td>30</td>\n",
       "    </tr>\n",
       "  </tbody>\n",
       "</table>\n",
       "</div>"
      ],
      "text/plain": [
       "    RANK  NEET_ROLL_NO  SCORE  SX  CAT  LOC  PHASE  COLLEGE\n",
       "0   1503    1206060037    680   1    2    1      1       30\n",
       "1   2599    1209010031    671   0    4    1      1       30\n",
       "2   5738    1205060436    655   1    4    1      1       30\n",
       "3   8695    1205090412    644   1    4    0      1       30\n",
       "4  11748    1205050763    635   0    4    5      1       30"
      ]
     },
     "execution_count": 109,
     "metadata": {},
     "output_type": "execute_result"
    }
   ],
   "source": [
    "df.head()"
   ]
  },
  {
   "cell_type": "code",
   "execution_count": 110,
   "metadata": {},
   "outputs": [],
   "source": [
    "df=df.drop(['NEET_ROLL_NO','SCORE'],axis=1)"
   ]
  },
  {
   "cell_type": "code",
   "execution_count": 111,
   "metadata": {},
   "outputs": [
    {
     "data": {
      "text/html": [
       "<div>\n",
       "<style scoped>\n",
       "    .dataframe tbody tr th:only-of-type {\n",
       "        vertical-align: middle;\n",
       "    }\n",
       "\n",
       "    .dataframe tbody tr th {\n",
       "        vertical-align: top;\n",
       "    }\n",
       "\n",
       "    .dataframe thead th {\n",
       "        text-align: right;\n",
       "    }\n",
       "</style>\n",
       "<table border=\"1\" class=\"dataframe\">\n",
       "  <thead>\n",
       "    <tr style=\"text-align: right;\">\n",
       "      <th></th>\n",
       "      <th>RANK</th>\n",
       "      <th>SX</th>\n",
       "      <th>CAT</th>\n",
       "      <th>LOC</th>\n",
       "      <th>PHASE</th>\n",
       "      <th>COLLEGE</th>\n",
       "    </tr>\n",
       "  </thead>\n",
       "  <tbody>\n",
       "    <tr>\n",
       "      <th>0</th>\n",
       "      <td>1503</td>\n",
       "      <td>1</td>\n",
       "      <td>2</td>\n",
       "      <td>1</td>\n",
       "      <td>1</td>\n",
       "      <td>30</td>\n",
       "    </tr>\n",
       "    <tr>\n",
       "      <th>1</th>\n",
       "      <td>2599</td>\n",
       "      <td>0</td>\n",
       "      <td>4</td>\n",
       "      <td>1</td>\n",
       "      <td>1</td>\n",
       "      <td>30</td>\n",
       "    </tr>\n",
       "    <tr>\n",
       "      <th>2</th>\n",
       "      <td>5738</td>\n",
       "      <td>1</td>\n",
       "      <td>4</td>\n",
       "      <td>1</td>\n",
       "      <td>1</td>\n",
       "      <td>30</td>\n",
       "    </tr>\n",
       "    <tr>\n",
       "      <th>3</th>\n",
       "      <td>8695</td>\n",
       "      <td>1</td>\n",
       "      <td>4</td>\n",
       "      <td>0</td>\n",
       "      <td>1</td>\n",
       "      <td>30</td>\n",
       "    </tr>\n",
       "    <tr>\n",
       "      <th>4</th>\n",
       "      <td>11748</td>\n",
       "      <td>0</td>\n",
       "      <td>4</td>\n",
       "      <td>5</td>\n",
       "      <td>1</td>\n",
       "      <td>30</td>\n",
       "    </tr>\n",
       "  </tbody>\n",
       "</table>\n",
       "</div>"
      ],
      "text/plain": [
       "    RANK  SX  CAT  LOC  PHASE  COLLEGE\n",
       "0   1503   1    2    1      1       30\n",
       "1   2599   0    4    1      1       30\n",
       "2   5738   1    4    1      1       30\n",
       "3   8695   1    4    0      1       30\n",
       "4  11748   0    4    5      1       30"
      ]
     },
     "execution_count": 111,
     "metadata": {},
     "output_type": "execute_result"
    }
   ],
   "source": [
    "df.head()"
   ]
  },
  {
   "cell_type": "code",
   "execution_count": 112,
   "metadata": {},
   "outputs": [
    {
     "data": {
      "text/plain": [
       "<Axes: xlabel='COLLEGE', ylabel='count'>"
      ]
     },
     "execution_count": 112,
     "metadata": {},
     "output_type": "execute_result"
    },
    {
     "data": {
      "image/png": "[encoded data removed]",
      "text/plain": [
       "<Figure size 640x480 with 1 Axes>"
      ]
     },
     "metadata": {},
     "output_type": "display_data"
    }
   ],
   "source": [
    "sns.countplot(data=df,x=\"COLLEGE\")"
   ]
  },
  {
   "cell_type": "code",
   "execution_count": 113,
   "metadata": {},
   "outputs": [
    {
     "data": {
      "text/plain": [
       "{'ACSR Government Medical College, Nellore': 0,\n",
       " 'Alluri Seetharama Raju Academy of Medical Sciences, Eluru': 1,\n",
       " 'Andhra Medical College, Visakhapatnam': 2,\n",
       " 'Apollo Institute of Medical Sciences and Research, Chittoor': 3,\n",
       " 'Dr. Pinnamaneni Siddhartha Institute of Medical Sciences, Gannavaram': 4,\n",
       " 'Fathima Institute of Medical Sciences, Kadapa': 5,\n",
       " 'GSL Medical College, Rajamahendravaram': 6,\n",
       " 'Gayatri Vidya Parishad Inst. of Health Care and Medical Technology, Visakhapatnam': 7,\n",
       " 'Government Medical College, Anantapur': 8,\n",
       " 'Government Medical College, Eluru': 9,\n",
       " 'Government Medical College, Kadapa': 10,\n",
       " 'Government Medical College, Machilipatnam': 11,\n",
       " 'Government Medical College, Nandyal': 12,\n",
       " 'Government Medical College, Ongole': 13,\n",
       " 'Government Medical College, Rajamahendravaram': 14,\n",
       " 'Government Medical College, Vizianagaram': 15,\n",
       " 'Government Medical College,Srikakulam': 16,\n",
       " 'Great Eastern Medical School and Hospital , Srikakulam': 17,\n",
       " 'Guntur Medical College, Guntur': 18,\n",
       " 'Katuri Medical College and Hospital, Guntur': 19,\n",
       " 'Konaseema Institute of Medical Sciences and Research Foundation , Amalapuram': 20,\n",
       " 'Kurnool Medical College, Kurnool': 21,\n",
       " 'Maharaja Institute of Medical Sciences, Vizianagaram': 22,\n",
       " 'NRI Institute of Medical Sciences, Visakhapatnam': 23,\n",
       " 'NRI Medical College, Chinnakakani': 24,\n",
       " 'Narayana Medical College, Nellore': 25,\n",
       " 'Nimra Institute of Medical Sciences, Vijayawada': 26,\n",
       " 'P.E.S. Institute of Medical Sciences and Research, Kuppam': 27,\n",
       " 'Rangaraya Medical College, Kakinada': 28,\n",
       " 'Santhiram Medical College, Nandyal': 29,\n",
       " 'Siddhartha Medical College, Vijayawada': 30,\n",
       " 'Sri Balaji Medical College Hospital and Research Institute, Renigunta, Tirupati': 31,\n",
       " 'Sri Padmavathi Medical College for Women, Tirupati (under SVIMS)': 32,\n",
       " 'Sri Venkateswara Medical College, Tirupati': 33,\n",
       " 'Viswabharathi Medical College, Kurnool': 34}"
      ]
     },
     "execution_count": 113,
     "metadata": {},
     "output_type": "execute_result"
    }
   ],
   "source": [
    "label_mapping_college"
   ]
  },
  {
   "cell_type": "code",
   "execution_count": 114,
   "metadata": {},
   "outputs": [],
   "source": [
    "from imblearn.over_sampling import RandomOverSampler\n",
    "oversampler = RandomOverSampler(random_state=420)"
   ]
  },
  {
   "cell_type": "code",
   "execution_count": 115,
   "metadata": {},
   "outputs": [],
   "source": [
    "X=df.drop(['COLLEGE'],axis=1)\n",
    "y=df['COLLEGE']"
   ]
  },
  {
   "cell_type": "code",
   "execution_count": 116,
   "metadata": {},
   "outputs": [],
   "source": [
    "X_resampled, y_resampled = oversampler.fit_resample(X,y)"
   ]
  },
  {
   "cell_type": "code",
   "execution_count": 117,
   "metadata": {},
   "outputs": [],
   "source": [
    "df_updated=X_resampled\n",
    "df_updated['COLLEGE']=y_resampled"
   ]
  },
  {
   "cell_type": "code",
   "execution_count": 118,
   "metadata": {},
   "outputs": [
    {
     "data": {
      "text/plain": [
       "<Axes: xlabel='COLLEGE', ylabel='count'>"
      ]
     },
     "execution_count": 118,
     "metadata": {},
     "output_type": "execute_result"
    },
    {
     "data": {
      "image/png": "[encoded data removed]",
      "text/plain": [
       "<Figure size 2400x1000 with 1 Axes>"
      ]
     },
     "metadata": {},
     "output_type": "display_data"
    }
   ],
   "source": [
    "plt.figure(figsize=(24,10))\n",
    "sns.countplot(data=df_updated,x=\"COLLEGE\")"
   ]
  },
  {
   "cell_type": "code",
   "execution_count": 125,
   "metadata": {},
   "outputs": [],
   "source": [
    "from sklearn.preprocessing import StandardScaler\n",
    "\n",
    "scaler = StandardScaler()\n",
    "df['RANK'] = scaler.fit_transform(df[['RANK']])\n"
   ]
  },
  {
   "cell_type": "code",
   "execution_count": 129,
   "metadata": {},
   "outputs": [
    {
     "data": {
      "text/html": [
       "<div>\n",
       "<style scoped>\n",
       "    .dataframe tbody tr th:only-of-type {\n",
       "        vertical-align: middle;\n",
       "    }\n",
       "\n",
       "    .dataframe tbody tr th {\n",
       "        vertical-align: top;\n",
       "    }\n",
       "\n",
       "    .dataframe thead th {\n",
       "        text-align: right;\n",
       "    }\n",
       "</style>\n",
       "<table border=\"1\" class=\"dataframe\">\n",
       "  <thead>\n",
       "    <tr style=\"text-align: right;\">\n",
       "      <th></th>\n",
       "      <th>RANK</th>\n",
       "      <th>SX</th>\n",
       "      <th>CAT</th>\n",
       "      <th>LOC</th>\n",
       "      <th>PHASE</th>\n",
       "      <th>COLLEGE</th>\n",
       "    </tr>\n",
       "  </thead>\n",
       "  <tbody>\n",
       "    <tr>\n",
       "      <th>0</th>\n",
       "      <td>-1.471064</td>\n",
       "      <td>1</td>\n",
       "      <td>2</td>\n",
       "      <td>1</td>\n",
       "      <td>1</td>\n",
       "      <td>30</td>\n",
       "    </tr>\n",
       "    <tr>\n",
       "      <th>1</th>\n",
       "      <td>-1.448337</td>\n",
       "      <td>0</td>\n",
       "      <td>4</td>\n",
       "      <td>1</td>\n",
       "      <td>1</td>\n",
       "      <td>30</td>\n",
       "    </tr>\n",
       "    <tr>\n",
       "      <th>2</th>\n",
       "      <td>-1.383248</td>\n",
       "      <td>1</td>\n",
       "      <td>4</td>\n",
       "      <td>1</td>\n",
       "      <td>1</td>\n",
       "      <td>30</td>\n",
       "    </tr>\n",
       "    <tr>\n",
       "      <th>3</th>\n",
       "      <td>-1.321933</td>\n",
       "      <td>1</td>\n",
       "      <td>4</td>\n",
       "      <td>0</td>\n",
       "      <td>1</td>\n",
       "      <td>30</td>\n",
       "    </tr>\n",
       "    <tr>\n",
       "      <th>4</th>\n",
       "      <td>-1.258628</td>\n",
       "      <td>0</td>\n",
       "      <td>4</td>\n",
       "      <td>5</td>\n",
       "      <td>1</td>\n",
       "      <td>30</td>\n",
       "    </tr>\n",
       "  </tbody>\n",
       "</table>\n",
       "</div>"
      ],
      "text/plain": [
       "       RANK  SX  CAT  LOC  PHASE  COLLEGE\n",
       "0 -1.471064   1    2    1      1       30\n",
       "1 -1.448337   0    4    1      1       30\n",
       "2 -1.383248   1    4    1      1       30\n",
       "3 -1.321933   1    4    0      1       30\n",
       "4 -1.258628   0    4    5      1       30"
      ]
     },
     "execution_count": 129,
     "metadata": {},
     "output_type": "execute_result"
    }
   ],
   "source": [
    "df.head()"
   ]
  },
  {
   "cell_type": "code",
   "execution_count": 126,
   "metadata": {},
   "outputs": [],
   "source": [
    "from sklearn.model_selection import train_test_split \n",
    "X_train,X_test,y_train,y_test=train_test_split(df_updated.drop([\"COLLEGE\"],axis=1),df_updated[\"COLLEGE\"],test_size=0.2,random_state=231)"
   ]
  },
  {
   "cell_type": "code",
   "execution_count": null,
   "metadata": {},
   "outputs": [],
   "source": []
  },
  {
   "cell_type": "code",
   "execution_count": 127,
   "metadata": {},
   "outputs": [
    {
     "name": "stdout",
     "output_type": "stream",
     "text": [
      "89.17219699615787\n",
      "[[69  0  0 ...  0  3  0]\n",
      " [ 0 68  0 ...  0  0  0]\n",
      " [ 0  1 61 ...  0  0  0]\n",
      " ...\n",
      " [ 0  0  0 ... 79  0  0]\n",
      " [ 2  0  0 ...  1 54  0]\n",
      " [ 0  0  0 ...  0  0 81]]\n",
      "              precision    recall  f1-score   support\n",
      "\n",
      "           0       0.82      0.85      0.84        81\n",
      "           1       0.85      0.79      0.82        86\n",
      "           2       0.84      0.73      0.78        83\n",
      "           3       0.92      0.94      0.93        72\n",
      "           4       1.00      0.95      0.97        94\n",
      "           5       1.00      1.00      1.00        91\n",
      "           6       0.85      0.88      0.86        76\n",
      "           7       0.94      0.91      0.93        90\n",
      "           8       0.90      0.89      0.90        94\n",
      "           9       0.96      1.00      0.98        64\n",
      "          10       0.88      0.90      0.89        80\n",
      "          11       1.00      0.95      0.98        87\n",
      "          12       1.00      0.94      0.97        94\n",
      "          13       0.90      0.81      0.86        81\n",
      "          14       0.95      0.94      0.94        80\n",
      "          15       1.00      0.97      0.99        71\n",
      "          16       0.77      0.88      0.82        77\n",
      "          17       0.97      0.93      0.95        83\n",
      "          18       0.65      0.68      0.67        82\n",
      "          19       0.94      0.94      0.94       102\n",
      "          20       0.95      0.92      0.94        65\n",
      "          21       0.84      0.76      0.80        89\n",
      "          22       0.81      0.92      0.86        72\n",
      "          23       0.85      0.90      0.87        87\n",
      "          24       0.89      0.90      0.89        86\n",
      "          25       0.95      0.84      0.89        83\n",
      "          26       1.00      0.99      0.99        82\n",
      "          27       0.96      0.91      0.93        86\n",
      "          28       0.60      0.71      0.65        75\n",
      "          29       0.95      0.95      0.95        63\n",
      "          30       0.80      0.80      0.80        83\n",
      "          31       0.95      0.96      0.95        93\n",
      "          32       0.90      0.98      0.93        81\n",
      "          33       0.70      0.83      0.76        65\n",
      "          34       0.95      0.95      0.95        85\n",
      "\n",
      "    accuracy                           0.89      2863\n",
      "   macro avg       0.89      0.89      0.89      2863\n",
      "weighted avg       0.90      0.89      0.89      2863\n",
      "\n"
     ]
    }
   ],
   "source": [
    "from sklearn.ensemble import RandomForestClassifier\n",
    "from sklearn.metrics import accuracy_score,confusion_matrix,classification_report\n",
    "rfc=RandomForestClassifier(criterion= 'entropy', min_samples_leaf= 1, min_samples_split=2)\n",
    "rfc.fit(X_train,y_train)\n",
    "y_p=rfc.predict(X_test)\n",
    "print(accuracy_score(y_p,y_test)*100)\n",
    "print(confusion_matrix(y_p,y_test))\n",
    "print(classification_report(y_p,y_test))"
   ]
  },
  {
   "cell_type": "code",
   "execution_count": 128,
   "metadata": {},
   "outputs": [
    {
     "name": "stdout",
     "output_type": "stream",
     "text": [
      "0.8997555012224939\n",
      "              precision    recall  f1-score   support\n",
      "\n",
      "           0       0.87      0.96      0.91        76\n",
      "           1       0.85      0.78      0.81        87\n",
      "           2       0.86      0.79      0.82        80\n",
      "           3       0.92      0.92      0.92        74\n",
      "           4       1.00      0.94      0.97        95\n",
      "           5       1.00      0.99      0.99        92\n",
      "           6       0.86      0.89      0.88        76\n",
      "           7       0.94      0.92      0.93        89\n",
      "           8       0.90      0.90      0.90        93\n",
      "           9       0.96      0.98      0.97        65\n",
      "          10       0.88      0.89      0.88        81\n",
      "          11       1.00      0.95      0.98        87\n",
      "          12       1.00      0.97      0.98        91\n",
      "          13       0.92      0.86      0.89        78\n",
      "          14       0.94      0.89      0.91        83\n",
      "          15       1.00      0.97      0.99        71\n",
      "          16       0.84      0.90      0.87        82\n",
      "          17       0.99      0.95      0.97        82\n",
      "          18       0.71      0.75      0.73        81\n",
      "          19       0.95      0.92      0.94       105\n",
      "          20       0.95      0.94      0.94        64\n",
      "          21       0.84      0.81      0.82        84\n",
      "          22       0.81      0.93      0.87        71\n",
      "          23       0.87      0.90      0.88        89\n",
      "          24       0.90      0.88      0.89        89\n",
      "          25       0.96      0.86      0.90        83\n",
      "          26       1.00      0.96      0.98        84\n",
      "          27       0.94      0.89      0.92        85\n",
      "          28       0.66      0.75      0.70        77\n",
      "          29       0.95      0.90      0.92        67\n",
      "          30       0.73      0.79      0.76        76\n",
      "          31       0.95      0.98      0.96        91\n",
      "          32       0.90      0.96      0.93        82\n",
      "          33       0.73      0.81      0.77        69\n",
      "          34       0.95      0.96      0.96        84\n",
      "\n",
      "    accuracy                           0.90      2863\n",
      "   macro avg       0.90      0.90      0.90      2863\n",
      "weighted avg       0.90      0.90      0.90      2863\n",
      "\n"
     ]
    }
   ],
   "source": [
    "from sklearn.tree import DecisionTreeClassifier\n",
    "dt=DecisionTreeClassifier(criterion= 'entropy', min_samples_leaf= 1, min_samples_split=2)\n",
    "dt.fit(X_train,y_train)\n",
    "y_p=dt.predict(X_test)\n",
    "print(accuracy_score(y_p,y_test))\n",
    "print(classification_report(y_p,y_test))"
   ]
  },
  {
   "cell_type": "code",
   "execution_count": 140,
   "metadata": {},
   "outputs": [
    {
     "name": "stdout",
     "output_type": "stream",
     "text": [
      "0.3248340901152637\n",
      "              precision    recall  f1-score   support\n",
      "\n",
      "           0       0.15      0.17      0.16        77\n",
      "           1       0.25      0.20      0.22       101\n",
      "           2       0.52      0.36      0.42       106\n",
      "           3       0.36      0.28      0.32        97\n",
      "           4       0.35      0.27      0.31       113\n",
      "           5       0.76      0.49      0.59       142\n",
      "           6       0.19      0.21      0.20        73\n",
      "           7       0.26      0.33      0.29        69\n",
      "           8       0.15      0.26      0.19        54\n",
      "           9       0.69      0.41      0.51       113\n",
      "          10       0.15      0.22      0.18        54\n",
      "          11       0.55      0.34      0.42       134\n",
      "          12       0.61      0.51      0.56       106\n",
      "          13       0.42      0.29      0.35       106\n",
      "          14       0.49      0.35      0.41       111\n",
      "          15       0.57      0.29      0.38       135\n",
      "          16       0.20      0.24      0.22        74\n",
      "          17       0.33      0.33      0.33        80\n",
      "          18       0.20      0.30      0.24        56\n",
      "          19       0.39      0.44      0.42        90\n",
      "          20       0.41      0.27      0.33        96\n",
      "          21       0.14      0.23      0.17        47\n",
      "          22       0.22      0.26      0.24        69\n",
      "          23       0.26      0.28      0.27        87\n",
      "          24       0.38      0.42      0.40        78\n",
      "          25       0.08      0.20      0.12        30\n",
      "          26       0.54      0.50      0.52        88\n",
      "          27       0.43      0.30      0.36       115\n",
      "          28       0.15      0.31      0.20        42\n",
      "          29       0.48      0.35      0.41        85\n",
      "          30       0.01      0.03      0.02        30\n",
      "          31       0.38      0.43      0.40        84\n",
      "          32       0.12      0.31      0.18        35\n",
      "          33       0.04      0.17      0.06        18\n",
      "          34       0.25      0.31      0.27        68\n",
      "\n",
      "    accuracy                           0.32      2863\n",
      "   macro avg       0.33      0.31      0.30      2863\n",
      "weighted avg       0.39      0.32      0.35      2863\n",
      "\n"
     ]
    }
   ],
   "source": [
    "from sklearn.neighbors import KNeighborsClassifier\n",
    "knn=KNeighborsClassifier(n_neighbors=14)\n",
    "knn.fit(X_train,y_train)\n",
    "y_p=knn.predict(X_test)\n",
    "print(accuracy_score(y_p,y_test))\n",
    "print(classification_report(y_p,y_test))"
   ]
  },
  {
   "cell_type": "code",
   "execution_count": null,
   "metadata": {},
   "outputs": [],
   "source": []
  }
 ],
 "metadata": {
  "kernelspec": {
   "display_name": "base",
   "language": "python",
   "name": "python3"
  },
  "language_info": {
   "codemirror_mode": {
    "name": "ipython",
    "version": 3
   },
   "file_extension": ".py",
   "mimetype": "text/x-python",
   "name": "python",
   "nbconvert_exporter": "python",
   "pygments_lexer": "ipython3",
   "version": "3.11.5"
  }
 },
 "nbformat": 4,
 "nbformat_minor": 2
}
